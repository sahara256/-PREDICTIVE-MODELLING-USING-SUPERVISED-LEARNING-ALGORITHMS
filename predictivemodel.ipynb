{
  "nbformat": 4,
  "nbformat_minor": 0,
  "metadata": {
    "colab": {
      "provenance": []
    },
    "kernelspec": {
      "name": "python3",
      "display_name": "Python 3"
    },
    "language_info": {
      "name": "python"
    }
  },
  "cells": [
    {
      "cell_type": "code",
      "execution_count": null,
      "metadata": {
        "colab": {
          "base_uri": "https://localhost:8080/",
          "height": 559
        },
        "id": "5yN6kpDUpvaf",
        "outputId": "fe4a3334-011d-4853-ba7e-ba852b0df0ca"
      },
      "outputs": [
        {
          "output_type": "stream",
          "name": "stdout",
          "text": [
            "\n",
            "Enter the following details to predict BMI level:\n",
            "Age: 30\n",
            "\n",
            "Predicted BMI Level: 30.47\n"
          ]
        },
        {
          "output_type": "display_data",
          "data": {
            "text/plain": [
              "<Figure size 640x480 with 1 Axes>"
            ],
            "image/png": "[encoded data removed]"
          },
          "metadata": {}
        }
      ],
      "source": [
        "import pandas as pd\n",
        "import matplotlib.pyplot as plt\n",
        "from sklearn.model_selection import train_test_split\n",
        "from sklearn.linear_model import LinearRegression\n",
        "from sklearn.preprocessing import StandardScaler\n",
        "from sklearn.metrics import mean_squared_error, r2_score\n",
        "\n",
        "# Load dataset\n",
        "data = pd.read_csv('/content/dataset_med.csv')\n",
        "\n",
        "# Target should be continuous\n",
        "X = data[['age']]\n",
        "y = data['bmi']  # Continuous target for linear regression\n",
        "\n",
        "# Scale features\n",
        "scaler = StandardScaler()\n",
        "X_scaled = scaler.fit_transform(X)\n",
        "\n",
        "# Train-test split\n",
        "X_train, X_test, y_train, y_test = train_test_split(X_scaled, y, test_size=0.2, random_state=42)\n",
        "\n",
        "# Train Linear Regression model\n",
        "linreg = LinearRegression()\n",
        "linreg.fit(X_train, y_train)\n",
        "\n",
        "# Predict\n",
        "y_pred = linreg.predict(X_test)\n",
        "\n",
        "# --- USER INPUT SECTION ---\n",
        "print(\"\\nEnter the following details to predict BMI level:\")\n",
        "try:\n",
        "    age = float(input(\"Age: \"))\n",
        "    # Prepare and scale input\n",
        "    user_data = pd.DataFrame([[age]], columns=['age'])\n",
        "    user_scaled = scaler.transform(user_data)\n",
        "\n",
        "    # Predict cholesterol level\n",
        "    user_prediction = linreg.predict(user_scaled)\n",
        "    print(f\"\\nPredicted BMI Level: {user_prediction[0]:.2f}\")\n",
        "\n",
        "except Exception as e:\n",
        "    print(f\"Invalid input! Error: {e}\")\n",
        "\n",
        "# --- Plot: Actual vs Predicted ---\n",
        "plt.xlabel(\"Actual BMI Level\")\n",
        "plt.ylabel(\"Predicted BMI Level\")\n",
        "plt.title(\"Linear Regression: Actual vs Predicted\")\n",
        "plt.grid(True)\n",
        "plt.plot([min(y_test), max(y_test)], [min(y_test), max(y_test)], 'b--')  # Reference line\n",
        "plt.show()"
      ]
    },
    {
      "cell_type": "code",
      "source": [
        "import pandas as pd\n",
        "import matplotlib.pyplot as plt\n",
        "from sklearn.model_selection import train_test_split\n",
        "from sklearn.linear_model import LinearRegression\n",
        "from sklearn.preprocessing import StandardScaler\n",
        "from sklearn.metrics import mean_squared_error, r2_score\n",
        "\n",
        "# --- Load and Prepare Data ---\n",
        "data = pd.read_csv('/content/dataset_med.csv')\n",
        "data.dropna(inplace=True)\n",
        "\n",
        "# Select features and target\n",
        "features = ['age']\n",
        "X = data[features]\n",
        "y = data['bmi']\n",
        "\n",
        "# Keep a copy of age before scaling\n",
        "age_values = X['age'].copy()\n",
        "\n",
        "# Scale features\n",
        "scaler = StandardScaler()\n",
        "X_scaled = scaler.fit_transform(X)\n",
        "\n",
        "# Train-test split (get indices to retrieve age later)\n",
        "X_train, X_test, y_train, y_test, age_train, age_test = train_test_split(\n",
        "    X_scaled, y, age_values, test_size=0.2, random_state=42)\n",
        "\n",
        "# Train Linear Regression model\n",
        "model = LinearRegression()\n",
        "model.fit(X_train, y_train)\n",
        "\n",
        "# Predict on test set\n",
        "y_pred = model.predict(X_test)\n",
        "\n",
        "# Evaluation\n",
        "mse = mean_squared_error(y_test, y_pred)\n",
        "r2 = r2_score(y_test, y_pred)\n",
        "print(f\"Linear Regression MSE: {mse:.2f}\")\n",
        "print(f\"Linear Regression R² Score: {r2:.2f}\")\n",
        "\n",
        "# --- User Input Prediction ---\n",
        "print(\"\\nEnter the following details to predict BMI level:\")\n",
        "try:\n",
        "    age_str = input(\"Age: \")\n",
        "    age = float(age_str)\n",
        "    if age < 1:\n",
        "        raise ValueError(\"Age must be greater than or equal to 1.\")\n",
        "\n",
        "    # Prepare and scale input\n",
        "    user_input = pd.DataFrame([[age]], columns=features)\n",
        "    user_scaled = scaler.transform(user_input)\n",
        "\n",
        "    # Predict BMI\n",
        "    bmi_pred = model.predict(user_scaled)\n",
        "    print(f\"\\nPredicted BMI Level: {bmi_pred[0]:.2f}\")\n",
        "\n",
        "except ValueError as ve:\n",
        "    print(f\"Invalid input! {ve}\")\n",
        "except Exception as e:\n",
        "    print(f\"Unexpected error: {e}\")\n",
        "\n",
        "# --- Plot: Actual vs Predicted ---\n",
        "plt.xlabel(\"Actual BMI Level\")\n",
        "plt.ylabel(\"Predicted BMI Level\")\n",
        "plt.title(\"Linear Regression: Actual vs Predicted\")\n",
        "plt.grid(True)\n",
        "plt.plot([min(y_test), max(y_test)], [min(y_test), max(y_test)], 'b--')  # Reference line\n",
        "plt.show()\n",
        "\n"
      ],
      "metadata": {
        "colab": {
          "base_uri": "https://localhost:8080/",
          "height": 593
        },
        "id": "wyuFKOMZ7-tQ",
        "outputId": "f763e3b6-bbb3-4690-c419-541b1bedd835"
      },
      "execution_count": null,
      "outputs": [
        {
          "output_type": "stream",
          "name": "stdout",
          "text": [
            "Linear Regression MSE: 70.32\n",
            "Linear Regression R² Score: -0.00\n",
            "\n",
            "Enter the following details to predict BMI level:\n",
            "Age: 22\n",
            "\n",
            "Predicted BMI Level: 30.46\n"
          ]
        },
        {
          "output_type": "display_data",
          "data": {
            "text/plain": [
              "<Figure size 640x480 with 1 Axes>"
            ],
            "image/png": "[encoded data removed]"
          },
          "metadata": {}
        }
      ]
    },
    {
      "cell_type": "code",
      "source": [
        "import pandas as pd\n",
        "data = pd.read_csv('/content/dataset_med.csv')\n",
        "data.dropna(inplace=True)\n",
        "data.drop_duplicates(inplace = True)\n",
        "from sklearn.preprocessing import MinMaxScaler\n",
        "scaler = MinMaxScaler()\n",
        "data[data.select_dtypes(include='number').columns] = scaler.fit_transform(data.select_dtypes(include='number'))\n",
        "\n",
        "data.to_csv(\"cleaned_test.csv\", index=False)\n",
        "\n",
        "print(\"Cleaned dataset has been saved to 'cleaned_disease_test.csv'\")"
      ],
      "metadata": {
        "colab": {
          "base_uri": "https://localhost:8080/"
        },
        "id": "KaYG0jq9BNu1",
        "outputId": "b5bdd8d7-117f-46a8-b83b-846a2eb65e84"
      },
      "execution_count": null,
      "outputs": [
        {
          "output_type": "stream",
          "name": "stdout",
          "text": [
            "Cleaned dataset has been saved to 'cleaned_disease_test.csv'\n"
          ]
        }
      ]
    },
    {
      "cell_type": "code",
      "source": [
        "import pandas as pd\n",
        "import matplotlib.pyplot as plt\n",
        "from sklearn.model_selection import train_test_split\n",
        "from sklearn.linear_model import LogisticRegression\n",
        "from sklearn.preprocessing import StandardScaler\n",
        "from sklearn.metrics import accuracy_score\n",
        "\n",
        "# Load dataset\n",
        "data = pd.read_csv('/content/cleaned_test.csv')\n",
        "\n",
        "# Features and target\n",
        "X = data[['age', 'bmi', 'asthma', 'hypertension']]\n",
        "y = data['survived']  # Predicting survival\n",
        "\n",
        "# Scale features\n",
        "scaler = StandardScaler()\n",
        "X_scaled = scaler.fit_transform(X)\n",
        "\n",
        "# Split data with stratify to ensure both survival classes are represented\n",
        "X_train, X_test, y_train, y_test = train_test_split(\n",
        "    X_scaled, y, test_size=0.2, random_state=42, stratify=y\n",
        ")\n",
        "\n",
        "# Train Logistic Regression model\n",
        "logreg = LogisticRegression()\n",
        "logreg.fit(X_train, y_train)\n",
        "\n",
        "# Predict on test set\n",
        "y_pred = logreg.predict(X_test)\n",
        "\n",
        "# --- USER INPUT SECTION ---\n",
        "print(\"\\nEnter the following details to predict survival:\")\n",
        "\n",
        "try:\n",
        "    age = float(input(\"Age: \"))\n",
        "    bmi = float(input(\"BMI: \"))\n",
        "    asthma = int(input(\"Asthma (0 = No, 1 = Yes): \"))\n",
        "    hypertension = int(input(\"Hypertension (0 = No, 1 = Yes): \"))\n",
        "\n",
        "    # Prepare and scale input\n",
        "    user_data = pd.DataFrame([[age, bmi, asthma, hypertension]], columns=['age', 'bmi', 'asthma', 'hypertension'])\n",
        "    user_scaled = scaler.transform(user_data)\n",
        "\n",
        "    # Predict\n",
        "    user_prediction = logreg.predict(user_scaled)\n",
        "    result = \"Survived\" if user_prediction[0] == 1 else \"Did Not Survive\"\n",
        "    print(f\"\\nPredicted Survival Outcome: {result}\")\n",
        "\n",
        "except Exception as e:\n",
        "    print(f\"Invalid input. Error: {e}\")\n"
      ],
      "metadata": {
        "colab": {
          "base_uri": "https://localhost:8080/"
        },
        "id": "eLrmtUOWEGjj",
        "outputId": "e7ac860e-6960-40a5-c9ec-a01476faf026"
      },
      "execution_count": null,
      "outputs": [
        {
          "output_type": "stream",
          "name": "stdout",
          "text": [
            "\n",
            "Enter the following details to predict survival:\n",
            "Age: 21\n",
            "BMI: 22.4\n",
            "Asthma (0 = No, 1 = Yes): 1\n",
            "Hypertension (0 = No, 1 = Yes): 0\n",
            "\n",
            "Predicted Survival Outcome: Did Not Survive\n"
          ]
        }
      ]
    },
    {
      "cell_type": "code",
      "source": [
        "import pandas as pd\n",
        "import matplotlib.pyplot as plt\n",
        "from sklearn.model_selection import train_test_split\n",
        "from sklearn.neighbors import KNeighborsClassifier\n",
        "from sklearn.preprocessing import StandardScaler\n",
        "from sklearn.metrics import accuracy_score\n",
        "\n",
        "# Load dataset\n",
        "data = pd.read_csv('/content/cleaned_test.csv')\n",
        "\n",
        "# Convert cholesterol level to binary (0: normal, 1: high)\n",
        "data['cholesterol_level'] = (data['cholesterol_level'] >= 200).astype(int)\n",
        "\n",
        "# Features and target\n",
        "X = data[['age', 'bmi', 'asthma', 'hypertension']]\n",
        "y = data['cholesterol_level']\n",
        "\n",
        "# Scale features\n",
        "scaler = StandardScaler()\n",
        "X_scaled = scaler.fit_transform(X)\n",
        "\n",
        "# Split data\n",
        "X_train, X_test, y_train, y_test = train_test_split(X_scaled, y, test_size=0.2, random_state=42)\n",
        "\n",
        "# Train KNN model\n",
        "knn = KNeighborsClassifier(n_neighbors=5)\n",
        "knn.fit(X_train, y_train)\n",
        "\n",
        "# Predict\n",
        "y_pred = knn.predict(X_test)\n",
        "\n",
        "# Accuracy\n",
        "accuracy = accuracy_score(y_test, y_pred)\n",
        "print(f\"KNN Model Accuracy: {accuracy:.2f}\")\n",
        "\n"
      ],
      "metadata": {
        "colab": {
          "base_uri": "https://localhost:8080/"
        },
        "id": "wsJhGn02Fwsy",
        "outputId": "7a3dddc2-f94f-43cc-b762-c08f40227a67"
      },
      "execution_count": null,
      "outputs": [
        {
          "output_type": "stream",
          "name": "stdout",
          "text": [
            "KNN Model Accuracy: 1.00\n"
          ]
        }
      ]
    },
    {
      "cell_type": "code",
      "source": [
        "import pandas as pd\n",
        "import matplotlib.pyplot as plt\n",
        "from sklearn.model_selection import train_test_split\n",
        "from sklearn.neighbors import KNeighborsClassifier\n",
        "from sklearn.preprocessing import StandardScaler\n",
        "from sklearn.metrics import accuracy_score\n",
        "\n",
        "# Load dataset\n",
        "data = pd.read_csv('/content/dataset_med.csv')\n",
        "\n",
        "# Convert cholesterol level to binary (0: normal, 1: high)\n",
        "data['cholesterol_level'] = (data['cholesterol_level'] >= 200).astype(int)\n",
        "\n",
        "# Features and target\n",
        "X = data[['age', 'bmi', 'asthma', 'hypertension']]\n",
        "y = data['cholesterol_level']\n",
        "\n",
        "# Scale features\n",
        "scaler = StandardScaler()\n",
        "X_scaled = scaler.fit_transform(X)\n",
        "\n",
        "# Split data\n",
        "X_train, X_test, y_train, y_test = train_test_split(X_scaled, y, test_size=0.2, random_state=42)\n",
        "\n",
        "# Train KNN model\n",
        "knn = KNeighborsClassifier(n_neighbors=5)\n",
        "knn.fit(X_train, y_train)\n",
        "\n",
        "# Predict\n",
        "y_pred = knn.predict(X_test)\n",
        "\n",
        "# Accuracy\n",
        "accuracy = accuracy_score(y_test, y_pred)\n",
        "print(f\"KNN Model Accuracy: {accuracy:.2f}\")\n"
      ],
      "metadata": {
        "colab": {
          "base_uri": "https://localhost:8080/"
        },
        "id": "5H98yOqiGEjS",
        "outputId": "153ef668-f24b-4180-8fec-3fbe82b09342"
      },
      "execution_count": null,
      "outputs": [
        {
          "output_type": "stream",
          "name": "stdout",
          "text": [
            "KNN Model Accuracy: 0.76\n"
          ]
        }
      ]
    }
  ]
}